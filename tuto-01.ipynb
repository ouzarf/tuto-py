{
 "cells": [
  {
   "cell_type": "code",
   "execution_count": 1,
   "metadata": {},
   "outputs": [
    {
     "name": "stdout",
     "output_type": "stream",
     "text": [
      "C=? 5\n",
      "41.0\n"
     ]
    }
   ],
   "source": [
    "C = input(\"C=? \")\n",
    "C = float(C)\n",
    "F = (9./5)*C + 32\n",
    "print( F )"
   ]
  },
  {
   "cell_type": "code",
   "execution_count": 2,
   "metadata": {
    "collapsed": true
   },
   "outputs": [],
   "source": [
    "r = eval(\"(-1, 1)\")"
   ]
  },
  {
   "cell_type": "code",
   "execution_count": 3,
   "metadata": {},
   "outputs": [
    {
     "data": {
      "text/plain": [
       "(-1, 1)"
      ]
     },
     "execution_count": 3,
     "metadata": {},
     "output_type": "execute_result"
    }
   ],
   "source": [
    "r"
   ]
  },
  {
   "cell_type": "code",
   "execution_count": 4,
   "metadata": {},
   "outputs": [
    {
     "data": {
      "text/plain": [
       "' mathprogramming '"
      ]
     },
     "execution_count": 4,
     "metadata": {},
     "output_type": "execute_result"
    }
   ],
   "source": [
    "r = eval('\" mathprogramming \"')\n",
    "r"
   ]
  },
  {
   "cell_type": "code",
   "execution_count": 5,
   "metadata": {},
   "outputs": [
    {
     "data": {
      "text/plain": [
       "5.1"
      ]
     },
     "execution_count": 5,
     "metadata": {},
     "output_type": "execute_result"
    }
   ],
   "source": [
    "r = eval(' 5.1 ')\n",
    "r"
   ]
  },
  {
   "cell_type": "code",
   "execution_count": 15,
   "metadata": {},
   "outputs": [
    {
     "name": "stdout",
     "output_type": "stream",
     "text": [
      "Give input: 3.33\n",
      "Give input: 33.3\n",
      "<class 'float'> + <class 'float'> becomes <class 'float'>\n",
      "with value 36.629999999999995\n"
     ]
    }
   ],
   "source": [
    "i1 = eval(input(\"Give input: \"))\n",
    "i2 = eval(input(\"Give input: \"))\n",
    "\n",
    "i1 = float(i1)\n",
    "\n",
    "i2 = float(i2)\n",
    "\n",
    "r = i1 + i2\n",
    "print (\"%s + %s becomes %s\\nwith value %s\" % \\\n",
    "(type(i1), type(i2), type(r), r))"
   ]
  },
  {
   "cell_type": "code",
   "execution_count": 17,
   "metadata": {},
   "outputs": [
    {
     "name": "stdout",
     "output_type": "stream",
     "text": [
      "Give input: 3.33\n",
      "Give input: 3\n",
      " <class 'float'> + <class 'int'> becomes <class 'float'>\n",
      "with value 6.33\n"
     ]
    }
   ],
   "source": [
    "i1 = eval(input(\"Give input: \"))\n",
    "i2 = eval(input(\"Give input: \"))\n",
    "r = i1 + i2\n",
    "print (\" %s + %s becomes %s\\nwith value %s\" % \\\n",
    "(type(i1), type(i2), type(r), r))"
   ]
  },
  {
   "cell_type": "code",
   "execution_count": null,
   "metadata": {
    "collapsed": true
   },
   "outputs": [],
   "source": [
    "from math import * # make all math functions available\n",
    "\n",
    "formula =input(\"Give a formula involving x: \")\n",
    "x = eval(input(\"Give x: \"))\n",
    "\n",
    "result = eval(formula)\n",
    "print( \"%s for x=%g yields %g\" % (formula, x, result))"
   ]
  },
  {
   "cell_type": "code",
   "execution_count": null,
   "metadata": {
    "collapsed": true
   },
   "outputs": [],
   "source": [
    "def f(x):\n",
    "    return x**4 + x"
   ]
  },
  {
   "cell_type": "code",
   "execution_count": null,
   "metadata": {
    "collapsed": true
   },
   "outputs": [],
   "source": [
    "x=0\n",
    "formula = input(\"Write a formula involving x: \")\n",
    "code = \"\"\"\n",
    "def f(x):\n",
    "    return %s\n",
    "    \"\"\" % formula\n",
    "exec(code)"
   ]
  },
  {
   "cell_type": "code",
   "execution_count": null,
   "metadata": {
    "collapsed": true
   },
   "outputs": [],
   "source": [
    "x = 0\n",
    "while x is not None:\n",
    "    x = eval(input(\"Give x (None to quit): \"))\n",
    "    if x is not None:\n",
    "        print( \"f(%g)=%g\" % (x, f(x)))"
   ]
  },
  {
   "cell_type": "code",
   "execution_count": null,
   "metadata": {
    "collapsed": true
   },
   "outputs": [],
   "source": [
    "import sys\n",
    "C = float(sys.argv[1])\n",
    "F = 9.0*C/5"
   ]
  },
  {
   "cell_type": "code",
   "execution_count": null,
   "metadata": {
    "collapsed": true
   },
   "outputs": [],
   "source": [
    "import tkinter\n",
    "import _tkinter\n",
    "tkinter._test()"
   ]
  },
  {
   "cell_type": "code",
   "execution_count": null,
   "metadata": {
    "collapsed": true
   },
   "outputs": [],
   "source": [
    "from tkinter import *\n",
    "root = Tk()\n",
    "C_entry = Entry(root, width=4)\n",
    "C_entry.pack(side=\"left\")\n",
    "Cunit_label = Label(root, text=\"Celsius\")\n",
    "Cunit_label.pack(side=\"left\")\n",
    "def compute():\n",
    "    C = float(C_entry.get())\n",
    "    F = (9./5)*C + 32\n",
    "    F_label.configure(text=\"%g\" % F)\n",
    "compute = Button(root, text=\"is\" , command=compute)\n",
    "compute.pack(side=\"left\", padx=4)\n",
    "F_label = Label(root, width=4)\n",
    "F_label.pack(side=\"left\")\n",
    "Funit_label = Label(root, text=\"Fahrenheit\")\n",
    "Funit_label.pack(side=\"left\")\n",
    "root.mainloop()\n"
   ]
  },
  {
   "cell_type": "code",
   "execution_count": null,
   "metadata": {
    "collapsed": true
   },
   "outputs": [],
   "source": [
    "from math import exp\n",
    "v4 = [exp(-i*0.1) for i in range(150)]\n",
    "v4"
   ]
  },
  {
   "cell_type": "code",
   "execution_count": null,
   "metadata": {
    "collapsed": true
   },
   "outputs": [],
   "source": [
    "def f(x):\n",
    "    return x**3 # sample function\n",
    "\n",
    "n = 5 # no of points along the x axis\n",
    "dx = 1.0/(n-1) # spacing between x points in [0,1]\n",
    "xlist = [i*dx for i in range(n)]\n",
    "ylist = [f(x) for x in xlist]\n",
    "pairs = [[x, y] for x, y in zip(xlist, ylist)]\n",
    "xlist"
   ]
  },
  {
   "cell_type": "code",
   "execution_count": null,
   "metadata": {
    "collapsed": true
   },
   "outputs": [],
   "source": [
    "ylist"
   ]
  },
  {
   "cell_type": "code",
   "execution_count": null,
   "metadata": {
    "collapsed": true
   },
   "outputs": [],
   "source": [
    "import numpy as np\n",
    "x2 = np.array(xlist) # turn list xlist into array x2\n",
    "y2 = np.array(ylist)\n",
    "x2"
   ]
  },
  {
   "cell_type": "code",
   "execution_count": null,
   "metadata": {
    "collapsed": true
   },
   "outputs": [],
   "source": [
    "y2"
   ]
  },
  {
   "cell_type": "code",
   "execution_count": null,
   "metadata": {},
   "outputs": [],
   "source": [
    "from matplotlib.pylab import *\n",
    "def f(t):\n",
    "    return t**2*exp(-t**2)\n",
    "t = linspace(0, 3, 51) # 51 points between 0 and 3\n",
    "y = zeros(len(t)) # allocate y with float elements\n",
    "for i in range(len(t)):\n",
    "    y[i] = f(t[i])\n",
    "plot(t, y)\n",
    "savefig(\"tmp1.png\") # produce PNG\n",
    "show()\n"
   ]
  },
  {
   "cell_type": "code",
   "execution_count": null,
   "metadata": {},
   "outputs": [],
   "source": [
    "plot(t, y)\n",
    "xlabel(\"t\")\n",
    "ylabel(\"y\")\n",
    "legend([\"t^2*exp(-t^2)\"])\n",
    "axis([0, 3, -0.05, 0.5]) # [tmin, tmax, ymin, ymax]\n",
    "title(\"My First Matplotlib Demo\")\n",
    "savefig(\"tmp2.eps\")\n",
    "show()"
   ]
  },
  {
   "cell_type": "code",
   "execution_count": null,
   "metadata": {},
   "outputs": [],
   "source": [
    "def f1(t):\n",
    "    return t**2*exp(-t**2)\n",
    "def f2(t):\n",
    "    return t**2*f1(t)\n",
    "t = linspace(0, 3, 51)\n",
    "y1 = f1(t)\n",
    "y2 = f2(t)\n",
    "plot(t, y1, \"r-\")\n",
    "hold(\"on\")\n",
    "plot(t, y2, \"bo\")\n",
    "xlabel(\"t\")\n",
    "ylabel(\"y\")\n",
    "legend([\"t^2*exp(-t^2)\", \"t^4*exp(-t^2)\"])\n",
    "title(\"Plotting two curves in the same plot\")\n",
    "savefig(\"tmp3.eps\")\n",
    "\n",
    "show()"
   ]
  },
  {
   "cell_type": "code",
   "execution_count": null,
   "metadata": {},
   "outputs": [],
   "source": [
    "figure() # make separate figure\n",
    "subplot(2, 1, 1)\n",
    "t = linspace(0, 3, 51)\n",
    "y1 = f1(t)\n",
    "y2 = f2(t)\n",
    "plot(t, y1, \"r-\", t, y2, \"bo\")\n",
    "xlabel(\"t\")\n",
    "ylabel(\"y\")\n",
    "axis([t[0], t[-1], min(y2)-0.05, max(y2)+0.5])\n",
    "legend([\"t^2*exp(-t^2)\", \"t^4*exp(-t^2)\"])\n",
    "title(\"Top figure\")\n",
    "subplot(2, 1, 2)\n",
    "t3 = t[::4]\n",
    "y3 = f2(t3)\n",
    "plot(t, y1, \"b-\", t3, y3, \"ys\")\n",
    "xlabel(\"t\")\n",
    "ylabel(\"y\")\n",
    "axis([0, 4, -0.2, 0.6])\n",
    "legend([\"t^2*exp(-t^2)\", \"t^4*exp(-t^2)\"])\n",
    "title(\"Bottom figure\")\n",
    "savefig(\"tmp4.eps\")\n",
    "show()\n"
   ]
  },
  {
   "cell_type": "code",
   "execution_count": null,
   "metadata": {},
   "outputs": [],
   "source": [
    "import numpy as np\n",
    "import matplotlib.pyplot as plt\n",
    "\n",
    "plt.plot(t, y)\n",
    "plt.legend([\"t^2*exp(-t^2)\"])\n",
    "plt.xlabel(\"t\")\n",
    "plt.ylabel(\"y\")\n",
    "plt.axis([0, 3, -0.05, 0.6]) # [tmin, tmax, ymin, ymax]\n",
    "plt.title(\"My First Matplotlib Demo\")\n",
    "\n",
    "plt.savefig(\"tmp5.eps\") # produce PostScript\n",
    "plt.show()"
   ]
  },
  {
   "cell_type": "code",
   "execution_count": null,
   "metadata": {},
   "outputs": [],
   "source": [
    "def f1(t):\n",
    "    return t**2*np.exp(-t**2)\n",
    "def f2(t):\n",
    "    return t**2*f1(t)\n",
    "t = np.linspace(0, 3, 51)\n",
    "y1 = f1(t)\n",
    "y2 = f2(t)\n",
    "plt.plot(t, y1, \"r-\")\n",
    "plt.plot(t, y2, \"bo\")\n",
    "plt.xlabel(\"t\")\n",
    "plt.ylabel(\"y\")\n",
    "plt.legend([\"t^2*exp(-t^2)\", \"t^4*exp(-t^2)\"])\n",
    "plt.title(\"Plotting two curves in the same plot\")\n",
    "plt.savefig(\"tmp6.eps\")\n",
    "plt.show()"
   ]
  },
  {
   "cell_type": "code",
   "execution_count": null,
   "metadata": {
    "collapsed": true
   },
   "outputs": [],
   "source": []
  }
 ],
 "metadata": {
  "anaconda-cloud": {},
  "kernelspec": {
   "display_name": "Python 3",
   "language": "python",
   "name": "python3"
  },
  "language_info": {
   "codemirror_mode": {
    "name": "ipython",
    "version": 3
   },
   "file_extension": ".py",
   "mimetype": "text/x-python",
   "name": "python",
   "nbconvert_exporter": "python",
   "pygments_lexer": "ipython3",
   "version": "3.6.3"
  }
 },
 "nbformat": 4,
 "nbformat_minor": 1
}
