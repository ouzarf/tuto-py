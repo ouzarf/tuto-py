{
 "cells": [
  {
   "cell_type": "markdown",
   "metadata": {},
   "source": [
    "# Gentle hands-on introduction to Python programming"
   ]
  },
  {
   "cell_type": "markdown",
   "metadata": {},
   "source": [
    "### Variables & Comment"
   ]
  },
  {
   "cell_type": "code",
   "execution_count": 1,
   "metadata": {},
   "outputs": [
    {
     "name": "stdout",
     "output_type": "stream",
     "text": [
      "Hello World!\n"
     ]
    }
   ],
   "source": [
    "# comment\n",
    "print (\"Hello World!\")"
   ]
  },
  {
   "cell_type": "code",
   "execution_count": 2,
   "metadata": {
    "collapsed": true
   },
   "outputs": [],
   "source": [
    "var = 100\n",
    "var1 = var2 = var3 = 10\n",
    "var1, var2, var3 = 100, 200, 300            # var1 =100, var2=200, var3=300   NOT possible in python"
   ]
  },
  {
   "cell_type": "code",
   "execution_count": 6,
   "metadata": {},
   "outputs": [
    {
     "name": "stdout",
     "output_type": "stream",
     "text": [
      "300\n"
     ]
    }
   ],
   "source": [
    "print(var3) "
   ]
  },
  {
   "cell_type": "code",
   "execution_count": 7,
   "metadata": {},
   "outputs": [
    {
     "name": "stdout",
     "output_type": "stream",
     "text": [
      "Python is very good!\n"
     ]
    }
   ],
   "source": [
    "var02 = \"Python is very good!\"\n",
    "print (var02) "
   ]
  },
  {
   "cell_type": "markdown",
   "metadata": {},
   "source": [
    "### Arithmetic Operator"
   ]
  },
  {
   "cell_type": "code",
   "execution_count": 7,
   "metadata": {},
   "outputs": [
    {
     "name": "stdout",
     "output_type": "stream",
     "text": [
      "300 8.0 3 2 64\n",
      "<class 'int'> <class 'float'> <class 'int'> <class 'int'>\n"
     ]
    }
   ],
   "source": [
    "a = 100 + 200\n",
    "b = 72/9\n",
    "c = 11 % 4 \n",
    "d = 11 // 4\n",
    "e = 8 ** 2\n",
    "print (a, b, c, d, e)\n",
    "print(type(a),type(b),type(c),type(d))"
   ]
  },
  {
   "cell_type": "markdown",
   "metadata": {},
   "source": [
    "### Assignment Operators :   “x += y” equals “x = x + y”"
   ]
  },
  {
   "cell_type": "code",
   "execution_count": 14,
   "metadata": {},
   "outputs": [
    {
     "name": "stdout",
     "output_type": "stream",
     "text": [
      "0\n"
     ]
    }
   ],
   "source": [
    "x=20   \n",
    "y=2\n",
    "x %= y\n",
    "print (x)"
   ]
  },
  {
   "cell_type": "code",
   "execution_count": 15,
   "metadata": {},
   "outputs": [
    {
     "name": "stdout",
     "output_type": "stream",
     "text": [
      "10\n"
     ]
    }
   ],
   "source": [
    "m=100\n",
    "n=18\n",
    "m%=n\n",
    "print (m)"
   ]
  },
  {
   "cell_type": "markdown",
   "metadata": {},
   "source": [
    "### Comparison Operators"
   ]
  },
  {
   "cell_type": "code",
   "execution_count": 16,
   "metadata": {},
   "outputs": [
    {
     "name": "stdout",
     "output_type": "stream",
     "text": [
      "False\n",
      "False\n",
      "True\n"
     ]
    }
   ],
   "source": [
    "a=100\n",
    "b=200\n",
    "result1= (a>b)\n",
    "print (result1) \n",
    "result2= (a==b)\n",
    "print (result2) \n",
    "result3= (a!=b)\n",
    "print (result3) "
   ]
  },
  {
   "cell_type": "markdown",
   "metadata": {},
   "source": [
    "## Logical Operators"
   ]
  },
  {
   "cell_type": "code",
   "execution_count": 17,
   "metadata": {},
   "outputs": [
    {
     "name": "stdout",
     "output_type": "stream",
     "text": [
      "False\n",
      "True\n",
      "False\n"
     ]
    }
   ],
   "source": [
    "x=True  \n",
    "y=False\n",
    "a=x and y   \n",
    "print (a)   \n",
    "\n",
    "b=x or y     \n",
    "print (b)   \n",
    "\n",
    "c=not x          \n",
    "print (c)  "
   ]
  },
  {
   "cell_type": "markdown",
   "metadata": {},
   "source": [
    "# Data Type"
   ]
  },
  {
   "cell_type": "code",
   "execution_count": 4,
   "metadata": {},
   "outputs": [
    {
     "name": "stdout",
     "output_type": "stream",
     "text": [
      "your data is:  100  !! The type of value is : <class 'int'>\n"
     ]
    }
   ],
   "source": [
    "data = 100\n",
    "print(\"your data is: \",data,\" !! The type of value is :\", type(data))"
   ]
  },
  {
   "cell_type": "code",
   "execution_count": null,
   "metadata": {
    "collapsed": true
   },
   "outputs": [],
   "source": [
    "# Float"
   ]
  },
  {
   "cell_type": "code",
   "execution_count": 5,
   "metadata": {},
   "outputs": [
    {
     "name": "stdout",
     "output_type": "stream",
     "text": [
      "your data is:  100.001  !! The type of value is : <class 'float'>\n"
     ]
    }
   ],
   "source": [
    "data = 100.001\n",
    "print(\"your data is: \",data,\" !! The type of value is :\", type(data))"
   ]
  },
  {
   "cell_type": "code",
   "execution_count": 6,
   "metadata": {},
   "outputs": [
    {
     "name": "stdout",
     "output_type": "stream",
     "text": [
      "your data is:  texte  !! The type of value is : <class 'str'>\n"
     ]
    }
   ],
   "source": [
    "data = \"texte\"\n",
    "print(\"your data is: \",data,\" !! The type of value is :\", type(data))"
   ]
  },
  {
   "cell_type": "code",
   "execution_count": 13,
   "metadata": {},
   "outputs": [
    {
     "name": "stdout",
     "output_type": "stream",
     "text": [
      "your data is:  False  !! The type of value is : <class 'bool'>\n"
     ]
    }
   ],
   "source": [
    "data = False\n",
    "print(\"your data is: \",data,\" !! The type of value is :\", type(data))"
   ]
  },
  {
   "cell_type": "markdown",
   "metadata": {},
   "source": [
    "## Convert Data Type"
   ]
  },
  {
   "cell_type": "code",
   "execution_count": 6,
   "metadata": {},
   "outputs": [
    {
     "name": "stdout",
     "output_type": "stream",
     "text": [
      "8 <class 'int'> 1558602112\n",
      "9 <class 'int'> 210679097424\n",
      "5.0 <class 'float'> 210711966488\n"
     ]
    }
   ],
   "source": [
    "num1 = int(8.67) \n",
    "print (num1, type(num1),id(num1))     # returns 8\n",
    "num2 = round(8.67)\n",
    "print (num2, type(num2),id(num2))    # returns 9.0\n",
    "num3 = float(5)\n",
    "print (num3, type(num3),id(num3))    # returns 5.0"
   ]
  },
  {
   "cell_type": "code",
   "execution_count": 15,
   "metadata": {},
   "outputs": [
    {
     "name": "stdout",
     "output_type": "stream",
     "text": [
      "A <class 'str'>\n",
      "100 <class 'str'>\n",
      "0xf <class 'str'>\n",
      "0o10 <class 'str'>\n",
      "0b1000 <class 'str'>\n"
     ]
    }
   ],
   "source": [
    "v1 = chr(65) \n",
    "print(v1, type(v1))     # returns A\n",
    "v2 = str(100)\n",
    "print(v2,type(v2))    # returns 100\n",
    "v3 = hex(15) \n",
    "print(v3, type(v3))     # returns F\n",
    "v4 = oct(8)\n",
    "print(v4,type(v4))    # returns 10\n",
    "v5 =bin(8)\n",
    "print(v5,type(v5))    # returns 10\n"
   ]
  },
  {
   "cell_type": "markdown",
   "metadata": {},
   "source": [
    "### Conditional Operator"
   ]
  },
  {
   "cell_type": "code",
   "execution_count": 18,
   "metadata": {},
   "outputs": [
    {
     "name": "stdout",
     "output_type": "stream",
     "text": [
      "apple\n"
     ]
    }
   ],
   "source": [
    "a=100\n",
    "b=200\n",
    "result = \"apple\" if (a<b) else \"banana\"\n",
    "print (result) "
   ]
  },
  {
   "cell_type": "code",
   "execution_count": 21,
   "metadata": {},
   "outputs": [
    {
     "name": "stdout",
     "output_type": "stream",
     "text": [
      "Child Fare\n"
     ]
    }
   ],
   "source": [
    "age = 15\n",
    "ticket = \"Child Fare\" if (age < 16 ) else \" Adult Fare\"\n",
    "print(ticket)"
   ]
  },
  {
   "cell_type": "markdown",
   "metadata": {},
   "source": [
    "# Statement"
   ]
  },
  {
   "cell_type": "code",
   "execution_count": 9,
   "metadata": {},
   "outputs": [
    {
     "name": "stdout",
     "output_type": "stream",
     "text": [
      "a is less than b\n"
     ]
    }
   ],
   "source": [
    "a = 100\n",
    "b = 200\n",
    "if a > b:\n",
    "    print (\"a is greater than b.\")\n",
    "else:\n",
    "    print (\"a is less than b\")"
   ]
  },
  {
   "cell_type": "code",
   "execution_count": 10,
   "metadata": {},
   "outputs": [
    {
     "name": "stdout",
     "output_type": "stream",
     "text": [
      "num is greater than 150\n"
     ]
    }
   ],
   "source": [
    "num=200\n",
    "if num < 100:\n",
    "    print (\"num is less than 100\")\n",
    "elif 100 < num < 150:\n",
    "    print (\"num is between 100 and 150\")\n",
    "else:\n",
    "    print (\"num is greater than 150\")"
   ]
  },
  {
   "cell_type": "code",
   "execution_count": null,
   "metadata": {},
   "outputs": [],
   "source": [
    "# https://ocw.mit.edu/courses/electrical-engineering-and-computer-science/6-189-a-gentle-introduction-to-programming-using-python-january-iap-2011/lectures/\n",
    "\n",
    "\n",
    "name = input(\"What is your name? \")\n",
    "city = input(\"What city do you live in? \")\n",
    "state =input(\"What state is that in? \")\n",
    "\n",
    "print (\"Hello there! It is so great to meet you,\")\n",
    "# One way to do this is to print strings on separate lines\n",
    "print (name)\n",
    "print (\"from\")\n",
    "print (city)\n",
    "print (state)\n",
    "\n",
    "# We can also \"glue together\" pieces of a string by adding commas\n",
    "#  between them.\n",
    "print( name, \"from\", city, state)\n",
    "\n",
    "# This doesn't work because raw_input returns a string\n",
    "#age = raw_input(\"Pardon my rudeness, but how old are you? \")\n",
    "#print \"Wow! You look like you could be\", age - (0.15*age), \"!!\"\n",
    "\n",
    "age = input(\"Pardon my rudeness, but how old are you? \")\n",
    "print(\"your age is: \",age,\"Data-Type value is: \",type(age))\n",
    "age= int(age)\n",
    "# Notice that we can \"glue together\" two strings and one integer into\n",
    "#  one giant string.\n",
    "print (\"Wow! You look like you could be\", int(age - (0.15*age)), \"!!\")\n",
    "\n",
    "# int(argument) forces the argument to be an integer by rounding down.\n",
    "# So, int(5.1) = 5 and int(5.9) = 5"
   ]
  },
  {
   "cell_type": "code",
   "execution_count": null,
   "metadata": {},
   "outputs": [],
   "source": [
    "# Problem Statement:\n",
    "# If you're taller than 56\", you can ride Space Mountain at Disneyland.\n",
    "# If you're shorter, you cannot.\n",
    "# Additionally if you are greater than 150 inches, you are super tall and\n",
    "#  deserve a witty message.\n",
    "\n",
    "# Get user's height\n",
    "height = int(input(\"How tall are you? \"))\n",
    "# height = int(height)\n",
    "# Do this if statement first\n",
    "if height > 150:\n",
    "    print( \"wow you're tall!\")\n",
    "\n",
    "# Do this one second - so people who are tall get the witty message\n",
    "#  AND get permission to ride the ride\n",
    "if height >= 56:\n",
    "    print( \"ok\")\n",
    "\n",
    "else:\n",
    "    print (\"too short\")"
   ]
  },
  {
   "cell_type": "code",
   "execution_count": null,
   "metadata": {
    "collapsed": true
   },
   "outputs": [],
   "source": []
  }
 ],
 "metadata": {
  "kernelspec": {
   "display_name": "Python 3",
   "language": "python",
   "name": "python3"
  }
 },
 "nbformat": 4,
 "nbformat_minor": 2
}
