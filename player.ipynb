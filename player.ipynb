{
 "cells": [
  {
   "cell_type": "code",
   "execution_count": null,
   "metadata": {},
   "outputs": [],
   "source": [
    "def dire_message(nom,message):\n",
    "    print(\"{}:{}\".format(nom,message))\n",
    "    \n",
    "dire_message(\"mohamed\",\" bonjour comment vas-tu?\")\n",
    "dire_message (\"yassine\",\" ca va merci\")\n",
    "\n",
    "def re-dire_message(nom=\"ali\",age=50,message=\"    bnj\"):\n",
    "    print(\"{} a ({}):{}\".format(nom,age,message))\n",
    "    \n",
    "re-dire_message()  \n",
    "re-dire_message(\"mohamed\",25,\"    bonjour comment vas-tu?\")\n",
    "re-dire_message(age=40, message=\"   Re- bonjour comment vas-tu?\")\n",
    "\n",
    "def affiche_list(*ma_list):\n",
    "    for elements in ma_list:\n",
    "        print(elements)\n",
    "    \n",
    "affiche_list(\"mohamed\",\"bonjour comment vas-tu?\",28 , \"FES\", \"Morocco\")"
   ]
  }
 ],
 "metadata": {
  "anaconda-cloud": {},
  "kernelspec": {
   "display_name": "Python [default]",
   "language": "python",
   "name": "python3"
  },
  "language_info": {
   "codemirror_mode": {
    "name": "ipython",
    "version": 3
   },
   "file_extension": ".py",
   "mimetype": "text/x-python",
   "name": "python",
   "nbconvert_exporter": "python",
   "pygments_lexer": "ipython3",
   "version": "3.5.2"
  }
 },
 "nbformat": 4,
 "nbformat_minor": 1
}
