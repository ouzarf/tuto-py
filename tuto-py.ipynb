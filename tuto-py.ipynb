{
 "cells": [
  {
   "cell_type": "code",
   "execution_count": 166,
   "metadata": {},
   "outputs": [
    {
     "name": "stdout",
     "output_type": "stream",
     "text": [
      "nombre de secondes écoulées depuis minuit =  55654\n"
     ]
    }
   ],
   "source": [
    "h, m, s = 15, 27, 34\n",
    "print(\"nombre de secondes écoulées depuis minuit = \", h*3600 + m*60 + s)"
   ]
  },
  {
   "cell_type": "code",
   "execution_count": 179,
   "metadata": {},
   "outputs": [
    {
     "name": "stdout",
     "output_type": "stream",
     "text": [
      "1     1     1\n",
      "2     4     8\n",
      "3     9     27\n",
      "4     16     64\n",
      "5     25     125\n",
      "6     36     216\n",
      "7     49     343\n",
      "8     64     512\n",
      "9     81     729\n",
      "10     100     1000\n",
      "11     121     1331\n",
      "12     144     1728\n",
      "\n",
      "12     144      1728\n"
     ]
    }
   ],
   "source": [
    "a = 0\n",
    "while a < 12:\n",
    "    a = a +1\n",
    "    print(a , \"   \", a**2 ,\"   \" , a**3)\n",
    "    \n",
    "print()    \n",
    "print(a , \"   \", a**2 ,\"    \" , a**3)"
   ]
  },
  {
   "cell_type": "code",
   "execution_count": 181,
   "metadata": {},
   "outputs": [
    {
     "name": "stdout",
     "output_type": "stream",
     "text": [
      "1 :  1\n",
      "2 :  2\n",
      "3 :  3\n",
      "4 :  5\n",
      "5 :  8\n",
      "6 :  13\n",
      "7 :  21\n",
      "8 :  34\n",
      "9 :  55\n",
      "10 :  89\n",
      "11 :  144\n",
      "12 :  233\n",
      "13 :  377\n",
      "14 :  610\n"
     ]
    }
   ],
   "source": [
    "# petit programme simple affichant une suite de Fibonacci\n",
    "a, b, c = 1, 1, 1\n",
    "while c < 15:\n",
    "    print(c, \": \", b)\n",
    "    a, b, c = b, a+b, c+1"
   ]
  },
  {
   "cell_type": "code",
   "execution_count": 189,
   "metadata": {},
   "outputs": [
    {
     "name": "stdout",
     "output_type": "stream",
     "text": [
      "La table par 7 en triple exemplaire :\n",
      "7 14 21 28 35 42 49 56 63 70 \n",
      "7 14 21 28 35 42 49 56 63 70 \n",
      "7 14 21 28 35 42 49 56 63 70 "
     ]
    }
   ],
   "source": [
    "def table7():\n",
    "    n = 1\n",
    "    while n <11 :\n",
    "        print(n * 7, end =' ')\n",
    "        n = n +1\n",
    "def table7triple():\n",
    "    print('La table par 7 en triple exemplaire :')\n",
    "    table7()\n",
    "    print()\n",
    "    table7()\n",
    "    print()\n",
    "    table7()\n",
    "    \n",
    "table7triple()"
   ]
  },
  {
   "cell_type": "code",
   "execution_count": 119,
   "metadata": {
    "scrolled": true
   },
   "outputs": [
    {
     "name": "stdout",
     "output_type": "stream",
     "text": [
      "quel age a tu ?22\n",
      "\n",
      "tu as  22 ans\n",
      "\n",
      "tu as 22 ans\n",
      "ton nom ?mohamed\n",
      "welcome  mohamed\n"
     ]
    }
   ],
   "source": [
    "age =input(\"quel age a tu ?\")\n",
    "age =int(age)\n",
    "print()\n",
    "print(\"tu as  {} ans\".format(age))\n",
    "print()\n",
    "print(\"tu as\",  age, \"ans\")\n",
    "nom =input(\"ton nom ?\")\n",
    "print(\"welcome \",  nom)"
   ]
  },
  {
   "cell_type": "code",
   "execution_count": 118,
   "metadata": {},
   "outputs": [
    {
     "name": "stdout",
     "output_type": "stream",
     "text": [
      "Computing…\n",
      "Your bmi is 21.604938271604937\n",
      "\n",
      "Perfect ! Normal weight\n"
     ]
    }
   ],
   "source": [
    "weight = 70\n",
    "height = 180\n",
    "bmi = (weight / (height**2)) * 10000\n",
    "print(\"Computing…\")\n",
    "print(\"Your bmi is {}\\n\".format(bmi))\n",
    "if bmi < 18.5:\n",
    "    print(\"Underweight\")\n",
    "elif 18.5 <= bmi <= 24.99:\n",
    "    print(\"Perfect ! Normal weight\")\n",
    "elif 25.00 <= bmi <= 30.00:\n",
    "    print(\"Overweight\")\n",
    "elif bmi > 30.00:\n",
    "    print(\"Obese\")"
   ]
  },
  {
   "cell_type": "code",
   "execution_count": 8,
   "metadata": {},
   "outputs": [
    {
     "name": "stdout",
     "output_type": "stream",
     "text": [
      "1 times 5 is 5\n",
      "2 times 5 is 10\n",
      "3 times 5 is 15\n",
      "4 times 5 is 20\n",
      "5 times 5 is 25\n"
     ]
    }
   ],
   "source": [
    "for index in [1, 2, 3, 4, 5]:\n",
    "    print(\"{} times 5 is {}\".format(index, index * 5))"
   ]
  },
  {
   "cell_type": "code",
   "execution_count": 12,
   "metadata": {},
   "outputs": [
    {
     "name": "stdout",
     "output_type": "stream",
     "text": [
      "Red times 2 is RedRed\n",
      "Black times 2 is BlackBlack\n",
      "Blue times 2 is BlueBlue\n",
      "White times 2 is WhiteWhite\n",
      "Pink times 2 is PinkPink\n"
     ]
    }
   ],
   "source": [
    "for index in  ['Red', 'Black', 'Blue', 'White', 'Pink']:\n",
    "    print(\"{} times 2 is {}\".format(index, index * 2))"
   ]
  },
  {
   "cell_type": "code",
   "execution_count": 16,
   "metadata": {},
   "outputs": [
    {
     "name": "stdout",
     "output_type": "stream",
     "text": [
      "10\n",
      "9\n",
      "8\n",
      "7\n",
      "6\n",
      "5\n",
      "4\n",
      "3\n",
      "2\n",
      "1\n",
      "Go !!\n"
     ]
    }
   ],
   "source": [
    "flag = 10\n",
    "while 1 <= flag:\n",
    "    print(flag)\n",
    "    flag = flag - 1\n",
    "print('Go !!')"
   ]
  },
  {
   "cell_type": "code",
   "execution_count": 17,
   "metadata": {},
   "outputs": [
    {
     "data": {
      "text/plain": [
       "range(0, 8)"
      ]
     },
     "execution_count": 17,
     "metadata": {},
     "output_type": "execute_result"
    }
   ],
   "source": [
    "range(8)"
   ]
  },
  {
   "cell_type": "code",
   "execution_count": 25,
   "metadata": {},
   "outputs": [
    {
     "data": {
      "text/plain": [
       "range(0, 8)"
      ]
     },
     "execution_count": 25,
     "metadata": {},
     "output_type": "execute_result"
    }
   ],
   "source": [
    "range(0, 8)"
   ]
  },
  {
   "cell_type": "code",
   "execution_count": 40,
   "metadata": {},
   "outputs": [
    {
     "name": "stdout",
     "output_type": "stream",
     "text": [
      "0\n"
     ]
    }
   ],
   "source": [
    "for number in range(0,1):\n",
    "    square = number * number\n",
    "    print(square)"
   ]
  },
  {
   "cell_type": "code",
   "execution_count": 33,
   "metadata": {},
   "outputs": [
    {
     "name": "stdout",
     "output_type": "stream",
     "text": [
      "1\n",
      "4\n",
      "9\n",
      "16\n"
     ]
    }
   ],
   "source": [
    "for number in range(1,5):\n",
    "    square = number * number\n",
    "    print(square)"
   ]
  },
  {
   "cell_type": "code",
   "execution_count": null,
   "metadata": {
    "collapsed": true
   },
   "outputs": [],
   "source": [
    "# def function_name(formal parameters):\n",
    "#   statement(s)"
   ]
  },
  {
   "cell_type": "code",
   "execution_count": 50,
   "metadata": {},
   "outputs": [
    {
     "name": "stdout",
     "output_type": "stream",
     "text": [
      "Hello ! Welcome to the party.\n"
     ]
    }
   ],
   "source": [
    "# Declaring a function.\n",
    "def say_hello():\n",
    "    print(\"Hello ! Welcome to the party.\")\n",
    "\n",
    "    \n",
    "# calling the function.\n",
    "say_hello()"
   ]
  },
  {
   "cell_type": "code",
   "execution_count": 24,
   "metadata": {},
   "outputs": [
    {
     "name": "stdout",
     "output_type": "stream",
     "text": [
      "Hello Flash\n",
      "Hello Arrow\n",
      "Hello Bat\n"
     ]
    }
   ],
   "source": [
    "def greet_name(name):\n",
    "    print(\"Hello {}\".format(name))\n",
    "\n",
    "\n",
    "greet_name(\"Flash\")\n",
    "greet_name(\"Arrow\")\n",
    "greet_name(\"Bat\")"
   ]
  },
  {
   "cell_type": "code",
   "execution_count": 58,
   "metadata": {},
   "outputs": [
    {
     "name": "stdout",
     "output_type": "stream",
     "text": [
      "mohamed: bonjour comment vas-tu?\n",
      "yassine: ca va merci\n"
     ]
    }
   ],
   "source": [
    "def dire_message(nom,message):\n",
    "    print(\"{}:{}\".format(nom,message))\n",
    "    \n",
    "dire_message(\"mohamed\",\" bonjour comment vas-tu?\")\n",
    "dire_message (\"yassine\",\" ca va merci\")"
   ]
  },
  {
   "cell_type": "code",
   "execution_count": 64,
   "metadata": {},
   "outputs": [
    {
     "name": "stdout",
     "output_type": "stream",
     "text": [
      "ali a (50):    bnj\n",
      "mohamed a (25):    bonjour comment vas-tu?\n",
      "ali a (40):   Re- bonjour comment vas-tu?\n"
     ]
    }
   ],
   "source": [
    "def dire_message(nom=\"ali\",age=50,message=\"    bnj\"):\n",
    "    print(\"{} a ({}):{}\".format(nom,age,message))\n",
    "    \n",
    "dire_message()  \n",
    "dire_message(\"mohamed\",25,\"    bonjour comment vas-tu?\")\n",
    "\n",
    "dire_message(age=40, message=\"   Re- bonjour comment vas-tu?\")"
   ]
  },
  {
   "cell_type": "code",
   "execution_count": 68,
   "metadata": {},
   "outputs": [
    {
     "name": "stdout",
     "output_type": "stream",
     "text": [
      "mohamed\n",
      "bonjour comment vas-tu?\n",
      "28\n",
      "FES\n",
      "Morocco\n"
     ]
    }
   ],
   "source": [
    "def affiche_list(*ma_list):\n",
    "    for elements in ma_list:\n",
    "        print(elements)\n",
    "    \n",
    "affiche_list(\"mohamed\",\"bonjour comment vas-tu?\",28 , \"FES\", \"Morocco\")"
   ]
  },
  {
   "cell_type": "code",
   "execution_count": 37,
   "metadata": {},
   "outputs": [
    {
     "name": "stdout",
     "output_type": "stream",
     "text": [
      "The factorial of 0 is 1\n",
      "The factorial of number is 1\n"
     ]
    }
   ],
   "source": [
    "def num_factorial(num):\n",
    "    factorial = 1\n",
    "    if num < 0:\n",
    "        print(\"Sorry, factorial does not exist for negative numbers\")\n",
    "    elif num == 0:\n",
    "        print(\"The factorial of 0 is 1\")\n",
    "    else:\n",
    "        for i in range(1, num + 1):\n",
    "            factorial = factorial * i\n",
    "    print(\"The factorial of number is {}\" .format(factorial))\n",
    "\n",
    "\n",
    "num_factorial(0)"
   ]
  },
  {
   "cell_type": "code",
   "execution_count": 70,
   "metadata": {},
   "outputs": [
    {
     "name": "stdout",
     "output_type": "stream",
     "text": [
      "22\n"
     ]
    }
   ],
   "source": [
    "def som(a,b):\n",
    "    return a+b\n",
    "    print(\"je ne serai jamais affiche =-)\")\n",
    "print((som(15,7)))"
   ]
  },
  {
   "cell_type": "code",
   "execution_count": 73,
   "metadata": {},
   "outputs": [
    {
     "data": {
      "text/plain": [
       "'Egalité'"
      ]
     },
     "execution_count": 73,
     "metadata": {},
     "output_type": "execute_result"
    }
   ],
   "source": [
    "def comparer(a,b):\n",
    "    \n",
    "    if a < b:\n",
    "       return a\n",
    "    elif a>b:\n",
    "        return b\n",
    "    else:\n",
    "        return \"Egalité\"\n",
    "\n",
    "comparer(15,15)"
   ]
  },
  {
   "cell_type": "markdown",
   "metadata": {},
   "source": [
    "# LAMDA FUNCTION"
   ]
  },
  {
   "cell_type": "code",
   "execution_count": 81,
   "metadata": {},
   "outputs": [
    {
     "name": "stdout",
     "output_type": "stream",
     "text": [
      "bonjour\n"
     ]
    }
   ],
   "source": [
    "salut = lambda : print(\"bonjour\")\n",
    "\n",
    "salut()"
   ]
  },
  {
   "cell_type": "code",
   "execution_count": 82,
   "metadata": {},
   "outputs": [
    {
     "name": "stdout",
     "output_type": "stream",
     "text": [
      "28.799999999999997\n"
     ]
    }
   ],
   "source": [
    "ttc = lambda prixHT : prixHT * 1.2\n",
    "\n",
    "print(ttc(24))"
   ]
  },
  {
   "cell_type": "code",
   "execution_count": 83,
   "metadata": {},
   "outputs": [
    {
     "name": "stdout",
     "output_type": "stream",
     "text": [
      "7\n"
     ]
    }
   ],
   "source": [
    "calculer = lambda a,b : a+b\n",
    "print(calculer(2,5))"
   ]
  },
  {
   "cell_type": "markdown",
   "metadata": {},
   "source": [
    "# MODULARITY"
   ]
  },
  {
   "cell_type": "code",
   "execution_count": 84,
   "metadata": {},
   "outputs": [
    {
     "data": {
      "text/plain": [
       "10.0"
      ]
     },
     "execution_count": 84,
     "metadata": {},
     "output_type": "execute_result"
    }
   ],
   "source": [
    "# omport simple module\n",
    "import math\n",
    "result = math.sqrt(100)\n",
    "result\n",
    "\n"
   ]
  },
  {
   "cell_type": "code",
   "execution_count": 85,
   "metadata": {},
   "outputs": [
    {
     "data": {
      "text/plain": [
       "100.0"
      ]
     },
     "execution_count": 85,
     "metadata": {},
     "output_type": "execute_result"
    }
   ],
   "source": [
    "from math import sqrt\n",
    "results = sqrt(10000)\n",
    "results"
   ]
  },
  {
   "cell_type": "code",
   "execution_count": 91,
   "metadata": {},
   "outputs": [
    {
     "data": {
      "text/plain": [
       "1.0"
      ]
     },
     "execution_count": 91,
     "metadata": {},
     "output_type": "execute_result"
    }
   ],
   "source": [
    "from math import *\n",
    "resultas = sqrt(25)\n",
    "resultas\n",
    "sinus= sin(pi/2)\n",
    "sinus"
   ]
  },
  {
   "cell_type": "code",
   "execution_count": 95,
   "metadata": {},
   "outputs": [
    {
     "data": {
      "text/plain": [
       "0"
      ]
     },
     "execution_count": 95,
     "metadata": {},
     "output_type": "execute_result"
    }
   ],
   "source": [
    "import os\n",
    "#os.system(\"cls\")\n",
    "os.system(\"clear\")"
   ]
  },
  {
   "cell_type": "code",
   "execution_count": null,
   "metadata": {
    "collapsed": true
   },
   "outputs": [],
   "source": [
    "# class Person():\n",
    "#    def say(self):\n",
    "#        print(\"Hello\")"
   ]
  },
  {
   "cell_type": "code",
   "execution_count": null,
   "metadata": {
    "collapsed": true
   },
   "outputs": [],
   "source": [
    "# call the functions through module player.py"
   ]
  },
  {
   "cell_type": "code",
   "execution_count": 112,
   "metadata": {},
   "outputs": [
    {
     "ename": "NameError",
     "evalue": "name 'aurevoir' is not defined",
     "output_type": "error",
     "traceback": [
      "\u001b[0;31m---------------------------------------------------------------------------\u001b[0m",
      "\u001b[0;31mNameError\u001b[0m                                 Traceback (most recent call last)",
      "\u001b[0;32m<ipython-input-112-3663611333e1>\u001b[0m in \u001b[0;36m<module>\u001b[0;34m()\u001b[0m\n\u001b[1;32m      1\u001b[0m \u001b[0;32mfrom\u001b[0m  \u001b[0mplayer\u001b[0m \u001b[0;32mimport\u001b[0m \u001b[0;34m*\u001b[0m\u001b[0;34m\u001b[0m\u001b[0m\n\u001b[0;32m----> 2\u001b[0;31m \u001b[0maurevoir\u001b[0m\u001b[0;34m(\u001b[0m\u001b[0;34m)\u001b[0m\u001b[0;34m\u001b[0m\u001b[0m\n\u001b[0m",
      "\u001b[0;31mNameError\u001b[0m: name 'aurevoir' is not defined"
     ]
    }
   ],
   "source": [
    "from  player import *\n",
    "aurevoir()"
   ]
  },
  {
   "cell_type": "markdown",
   "metadata": {},
   "source": [
    "# CLASS"
   ]
  },
  {
   "cell_type": "code",
   "execution_count": 3,
   "metadata": {},
   "outputs": [
    {
     "name": "stdout",
     "output_type": "stream",
     "text": [
      "Hello\n"
     ]
    }
   ],
   "source": [
    "class Person():\n",
    "    def __init__(self):\n",
    "      pass\n",
    "\n",
    "print(\"Hello\")"
   ]
  },
  {
   "cell_type": "code",
   "execution_count": 4,
   "metadata": {},
   "outputs": [
    {
     "ename": "NameError",
     "evalue": "name 'self' is not defined",
     "output_type": "error",
     "traceback": [
      "\u001b[1;31m---------------------------------------------------------------------------\u001b[0m",
      "\u001b[1;31mNameError\u001b[0m                                 Traceback (most recent call last)",
      "\u001b[1;32m<ipython-input-4-44d02fa5d45b>\u001b[0m in \u001b[0;36m<module>\u001b[1;34m()\u001b[0m\n\u001b[1;32m----> 1\u001b[1;33m \u001b[1;32mclass\u001b[0m \u001b[0mPerson\u001b[0m\u001b[1;33m(\u001b[0m\u001b[1;33m)\u001b[0m\u001b[1;33m:\u001b[0m\u001b[1;33m\u001b[0m\u001b[0m\n\u001b[0m\u001b[0;32m      2\u001b[0m     \u001b[1;32mdef\u001b[0m \u001b[0m__init__\u001b[0m\u001b[1;33m(\u001b[0m\u001b[0mself\u001b[0m\u001b[1;33m)\u001b[0m\u001b[1;33m:\u001b[0m\u001b[1;33m\u001b[0m\u001b[0m\n\u001b[0;32m      3\u001b[0m      \u001b[0mprint\u001b[0m\u001b[1;33m(\u001b[0m\u001b[1;34m\"create person\"\u001b[0m\u001b[1;33m)\u001b[0m\u001b[1;33m\u001b[0m\u001b[0m\n\u001b[0;32m      4\u001b[0m     \u001b[0mself\u001b[0m\u001b[1;33m.\u001b[0m\u001b[0mprenom\u001b[0m\u001b[1;33m=\u001b[0m\u001b[1;34m\"om\"\u001b[0m\u001b[1;33m\u001b[0m\u001b[0m\n\u001b[0;32m      5\u001b[0m     \u001b[0mself\u001b[0m\u001b[1;33m.\u001b[0m\u001b[0mage\u001b[0m\u001b[1;33m=\u001b[0m\u001b[1;36m50\u001b[0m\u001b[1;33m\u001b[0m\u001b[0m\n",
      "\u001b[1;32m<ipython-input-4-44d02fa5d45b>\u001b[0m in \u001b[0;36mPerson\u001b[1;34m()\u001b[0m\n\u001b[0;32m      2\u001b[0m     \u001b[1;32mdef\u001b[0m \u001b[0m__init__\u001b[0m\u001b[1;33m(\u001b[0m\u001b[0mself\u001b[0m\u001b[1;33m)\u001b[0m\u001b[1;33m:\u001b[0m\u001b[1;33m\u001b[0m\u001b[0m\n\u001b[0;32m      3\u001b[0m      \u001b[0mprint\u001b[0m\u001b[1;33m(\u001b[0m\u001b[1;34m\"create person\"\u001b[0m\u001b[1;33m)\u001b[0m\u001b[1;33m\u001b[0m\u001b[0m\n\u001b[1;32m----> 4\u001b[1;33m     \u001b[0mself\u001b[0m\u001b[1;33m.\u001b[0m\u001b[0mprenom\u001b[0m\u001b[1;33m=\u001b[0m\u001b[1;34m\"om\"\u001b[0m\u001b[1;33m\u001b[0m\u001b[0m\n\u001b[0m\u001b[0;32m      5\u001b[0m     \u001b[0mself\u001b[0m\u001b[1;33m.\u001b[0m\u001b[0mage\u001b[0m\u001b[1;33m=\u001b[0m\u001b[1;36m50\u001b[0m\u001b[1;33m\u001b[0m\u001b[0m\n\u001b[0;32m      6\u001b[0m \u001b[0mprint\u001b[0m\u001b[1;33m(\u001b[0m\u001b[1;34m\"GO PYTHON\"\u001b[0m\u001b[1;33m)\u001b[0m\u001b[1;33m\u001b[0m\u001b[0m\n",
      "\u001b[1;31mNameError\u001b[0m: name 'self' is not defined"
     ]
    }
   ],
   "source": [
    "class Person():\n",
    "    def __init__(self):\n",
    "     print(\"create person\")\n",
    "    self.prenom=\"om\"\n",
    "    self.age=50\n",
    "print(\"GO PYTHON\")    \n",
    "jackman = Person()  "
   ]
  },
  {
   "cell_type": "code",
   "execution_count": 5,
   "metadata": {},
   "outputs": [
    {
     "name": "stdout",
     "output_type": "stream",
     "text": [
      "Hello\n"
     ]
    }
   ],
   "source": [
    "class Person():\n",
    "    def say(self):\n",
    "        print(\"Hello\")\n",
    "\n",
    "jackman = Person()\n",
    "jackman.say()"
   ]
  },
  {
   "cell_type": "code",
   "execution_count": 6,
   "metadata": {},
   "outputs": [
    {
     "name": "stdout",
     "output_type": "stream",
     "text": [
      "Hello\n"
     ]
    }
   ],
   "source": [
    "class Person():\n",
    "    def say(self):\n",
    "        print(\"Hello\")\n",
    "\n",
    "# jackman = Person()\n",
    "Person().say()"
   ]
  },
  {
   "cell_type": "code",
   "execution_count": 7,
   "metadata": {},
   "outputs": [
    {
     "name": "stdout",
     "output_type": "stream",
     "text": [
      "Hello Lee How are you ?\n",
      "Nice Meeting You Edison\n"
     ]
    }
   ],
   "source": [
    "class Person():\n",
    "    def hello(self, name):\n",
    "        self.name = name\n",
    "        print(\"Hello {} How are you ?\".format(self.name))\n",
    "\n",
    "    def bye(self, name):\n",
    "        self.name = name\n",
    "        print(\"Nice Meeting You {}\".format(self.name))\n",
    "\n",
    "\n",
    "jackman = Person()\n",
    "jackman.hello(\"Lee\")\n",
    "jackman.bye(\"Edison\")"
   ]
  },
  {
   "cell_type": "code",
   "execution_count": 143,
   "metadata": {},
   "outputs": [
    {
     "name": "stdout",
     "output_type": "stream",
     "text": [
      "Hello Lee How are you ?\n",
      "Nice Meeting You Edison\n",
      "Lee is happy to meet Edison\n"
     ]
    }
   ],
   "source": [
    "class Person():\n",
    "    def hello(self, name1):\n",
    "        self.name1 = name1\n",
    "        print(\"Hello {} How are you ?\".format(self.name1))\n",
    "\n",
    "    def bye(self, name2):\n",
    "        self.name2 = name2\n",
    "        print(\"Nice Meeting You {}\".format(self.name2))\n",
    "        \n",
    "    def meet(self, name1,name2):\n",
    "        \n",
    "        print(\"{} is happy to meet {}\".format(self.name1,self.name2))\n",
    "\n",
    "\n",
    "jackman = Person()\n",
    "jackman.hello(\"Lee\")\n",
    "jackman.bye(\"Edison\")\n",
    "jackman.meet(\"Lee\",\"Edison\")\n"
   ]
  },
  {
   "cell_type": "code",
   "execution_count": 144,
   "metadata": {},
   "outputs": [
    {
     "name": "stdout",
     "output_type": "stream",
     "text": [
      "Name of the person is Vihar\n",
      "Your are 20 Years Old\n"
     ]
    }
   ],
   "source": [
    "class Person():\n",
    "    def __init__(self, name, year_of_birth):\n",
    "\n",
    "        self.name = name\n",
    "        self.year_of_birth = year_of_birth\n",
    "\n",
    "    def detail(self, name):\n",
    "        print(\"Name of the person is {}\".format(name))\n",
    "\n",
    "    def age(self, year_of_birth):\n",
    "        print(\"Your are {} Years Old\".format(year_of_birth))\n",
    "\n",
    "\n",
    "person = Person('Vihar', 1998)\n",
    "person.detail('Vihar')\n",
    "person.age(20)"
   ]
  },
  {
   "cell_type": "code",
   "execution_count": 134,
   "metadata": {},
   "outputs": [
    {
     "name": "stdout",
     "output_type": "stream",
     "text": [
      "Name of the person1 is om\n",
      "Your are 50 Years Old\n",
      "Name of the person2 is zaki\n",
      "Your are 20 Years Old\n"
     ]
    }
   ],
   "source": [
    "class Person():\n",
    "    def __init__(self, name, age):\n",
    "\n",
    "        self.name = name\n",
    "        self.age = age\n",
    "\n",
    "    \n",
    "\n",
    "person1 = Person('om', 50)\n",
    "\n",
    "print(\"Name of the person1 is {}\".format(person1.name))  \n",
    "print(\"Your are {} Years Old\".format(person1.age))\n",
    "\n",
    "person2 = Person('zaki', 20)\n",
    "print(\"Name of the person2 is {}\".format(person2.name))\n",
    "print(\"Your are {} Years Old\".format(person2.age))\n"
   ]
  },
  {
   "cell_type": "code",
   "execution_count": 1,
   "metadata": {},
   "outputs": [
    {
     "name": "stdout",
     "output_type": "stream",
     "text": [
      "y(t=0.2; v0=5) = 0.8038\n",
      "v0*t - 0.5*g*t**2; v0=5\n"
     ]
    }
   ],
   "source": [
    "# -*- coding: utf-8 -*-\n",
    "\"\"\"\n",
    "Created on Sun Feb  4 08:59:44 2018  BOOK page HANS p312\n",
    "\n",
    "\n",
    "\"\"\"\n",
    "\n",
    "class Y:\n",
    "    def __init__(self, v0):\n",
    "        self.v0 = v0\n",
    "        self.g = 9.81\n",
    "        \n",
    "    def value(self, t):\n",
    "        return self.v0*t - 0.5*self.g*t**2\n",
    "        \n",
    "    def formula(self):\n",
    "        return (\"v0*t - 0.5*g*t**2; v0=%g\" % self.v0)\n",
    "        \n",
    "        \n",
    "y = Y(5)\n",
    "t = 0.2\n",
    "v = y.value(t)\n",
    "print( \"y(t=%g; v0=%g) = %g\" % (t, y.v0, v))\n",
    "print (y.formula())"
   ]
  },
  {
   "cell_type": "markdown",
   "metadata": {},
   "source": [
    "# ERROR and EXCEPTIONS"
   ]
  },
  {
   "cell_type": "code",
   "execution_count": 165,
   "metadata": {},
   "outputs": [
    {
     "name": "stdout",
     "output_type": "stream",
     "text": [
      "(141, 118, 76, 255)\n"
     ]
    }
   ],
   "source": [
    "from PIL.Image import *\n",
    "i=open(\"Error1.png\")\n",
    "#Image.show(i)\n",
    "# recupere dans la variable c la couleur du pixel en ligne 36 et colonne 2\n",
    "# NB: les indices des lignes et colonnes commencent de 0\n",
    "c = Image.getpixel(i, (3,1))\n",
    "print (c)\n"
   ]
  },
  {
   "cell_type": "code",
   "execution_count": 164,
   "metadata": {
    "collapsed": true
   },
   "outputs": [],
   "source": [
    "from PIL.Image import *\n",
    "i=open(\"Error2.tiff\")\n",
    "j=open(\"Error3.tiff\")\n",
    "k=open(\"Error4.tiff\")\n",
    "Image.show(i)\n",
    "Image.show(j)\n",
    "Image.show(k)"
   ]
  },
  {
   "cell_type": "code",
   "execution_count": 138,
   "metadata": {},
   "outputs": [
    {
     "name": "stdout",
     "output_type": "stream",
     "text": [
      "quel age a tu ?50\n",
      "tu as  50 ans\n",
      "END\n"
     ]
    }
   ],
   "source": [
    "age =input(\"quel age a tu ?\")\n",
    "try:\n",
    "    age =int(age)\n",
    "except:\n",
    "    print(\"Error age\")\n",
    "else:\n",
    "    print(\"tu as  {} ans\".format(age))\n",
    "finally:\n",
    "    print(\"END\")"
   ]
  },
  {
   "cell_type": "code",
   "execution_count": 191,
   "metadata": {
    "collapsed": true
   },
   "outputs": [],
   "source": [
    "from turtle import *\n",
    "def carre(taille, couleur):\n",
    "    \"fonction qui dessine un carré de taille et de couleur déterminées\"\n",
    "    color(couleur)\n",
    "    c =0\n",
    "    while c <4:\n",
    "        forward(taille)\n",
    "        right(90)\n",
    "        c = c +1"
   ]
  },
  {
   "cell_type": "markdown",
   "metadata": {},
   "source": [
    "# Tkinter"
   ]
  },
  {
   "cell_type": "code",
   "execution_count": null,
   "metadata": {
    "collapsed": true
   },
   "outputs": [],
   "source": [
    "import tkinter\n",
    "import _tkinter\n",
    "tkinter._test()"
   ]
  },
  {
   "cell_type": "code",
   "execution_count": null,
   "metadata": {
    "collapsed": true
   },
   "outputs": [],
   "source": [
    "from tkinter import *\n",
    "root = Tk()\n",
    "C_entry = Entry(root, width=4)\n",
    "C_entry.pack(side=\"left\")\n",
    "Cunit_label = Label(root, text=\"Celsius\")\n",
    "Cunit_label.pack(side=\"left\")\n",
    "def compute():\n",
    "    C = float(C_entry.get())\n",
    "    F = (9./5)*C + 32\n",
    "    F_label.configure(text=\"%g\" % F)\n",
    "compute = Button(root, text=\"is\" , command=compute)\n",
    "compute.pack(side=\"left\", padx=4)\n",
    "F_label = Label(root, width=4)\n",
    "F_label.pack(side=\"left\")\n",
    "Funit_label = Label(root, text=\"Fahrenheit\")\n",
    "Funit_label.pack(side=\"left\")\n",
    "root.mainloop()\n",
    "# tkinter._test()"
   ]
  },
  {
   "cell_type": "code",
   "execution_count": null,
   "metadata": {
    "collapsed": true
   },
   "outputs": [],
   "source": [
    "# "
   ]
  },
  {
   "cell_type": "code",
   "execution_count": 26,
   "metadata": {},
   "outputs": [
    {
     "data": {
      "image/png": "[encoded data removed]",
      "text/plain": [
       "<matplotlib.figure.Figure at 0x107a3a7b8>"
      ]
     },
     "metadata": {},
     "output_type": "display_data"
    }
   ],
   "source": [
    "class VelocityProfile:\n",
    "    def __init__(self, beta, mu0, n, R):\n",
    "        self.beta, self.mu0, self.n, self.R = beta, mu0, n, R\n",
    "\n",
    "    def value(self, r):\n",
    "        beta, mu0, n, R = self.beta, self.mu0, self.n, self.R\n",
    "        n = float(n)  # ensure float divisions\n",
    "        v = (beta/(2.0*mu0))**(1/n)*(n/(n+1))*(R**(1+1/n) - r**(1+1/n))\n",
    "        return v\n",
    "\n",
    "\n",
    "v1 = VelocityProfile(R=1, beta=0.06, mu0=0.02, n=0.1)\n",
    "from matplotlib.pylab import *\n",
    "r = linspace(-10, 10, 50) # 50 points \n",
    "\n",
    "v = v1.value(r)\n",
    "plot(r, v)\n",
    "\n",
    "xlabel(\"r\")\n",
    "ylabel(\"v\")\n",
    "#legend([\"t^2*exp(-t^2)\", \"t^4*exp(-t^2)\"])\n",
    "title(\"Plotting  curve v : r\")\n",
    "savefig(\"Velocity.png\") # produce PNG\n",
    "show()"
   ]
  },
  {
   "cell_type": "code",
   "execution_count": null,
   "metadata": {
    "collapsed": true
   },
   "outputs": [],
   "source": []
  }
 ],
 "metadata": {
  "anaconda-cloud": {},
  "kernelspec": {
   "display_name": "Python 3",
   "language": "python",
   "name": "python3"
  },
  "language_info": {
   "codemirror_mode": {
    "name": "ipython",
    "version": 3
   },
   "file_extension": ".py",
   "mimetype": "text/x-python",
   "name": "python",
   "nbconvert_exporter": "python",
   "pygments_lexer": "ipython3",
   "version": "3.6.3"
  }
 },
 "nbformat": 4,
 "nbformat_minor": 1
}
