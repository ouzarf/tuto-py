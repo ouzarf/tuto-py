{
 "cells": [
  {
   "cell_type": "code",
   "execution_count": null,
   "metadata": {
    "collapsed": true
   },
   "outputs": [],
   "source": []
  },
  {
   "cell_type": "code",
   "execution_count": 1,
   "metadata": {},
   "outputs": [
    {
     "data": {
      "text/plain": [
       "'21.8\\n18.1\\n19\\n23\\n26\\n17.8'"
      ]
     },
     "execution_count": 1,
     "metadata": {},
     "output_type": "execute_result"
    }
   ],
   "source": [
    "infile = open(\"data1.txt\", \"r\")\n",
    "filestr = infile.read()\n",
    "filestr\n"
   ]
  },
  {
   "cell_type": "code",
   "execution_count": 2,
   "metadata": {},
   "outputs": [
    {
     "name": "stdout",
     "output_type": "stream",
     "text": [
      "21.8\n",
      "18.1\n",
      "19\n",
      "23\n",
      "26\n",
      "17.8\n"
     ]
    }
   ],
   "source": [
    "print (filestr)"
   ]
  },
  {
   "cell_type": "code",
   "execution_count": null,
   "metadata": {},
   "outputs": [],
   "source": [
    "words = filestr.split()\n",
    "words"
   ]
  },
  {
   "cell_type": "code",
   "execution_count": null,
   "metadata": {},
   "outputs": [],
   "source": [
    "numbers = [float(w) for w in words]\n",
    "mean = sum(numbers)/len(numbers)\n",
    "mean"
   ]
  },
  {
   "cell_type": "code",
   "execution_count": null,
   "metadata": {},
   "outputs": [],
   "source": [
    "infile = open(\"data1.txt\", \"r\")\n",
    "numbers = [float(w) for w in infile.read().split()]\n",
    "mean = sum(numbers)/len(numbers)\n",
    "mean"
   ]
  },
  {
   "cell_type": "code",
   "execution_count": null,
   "metadata": {},
   "outputs": [],
   "source": [
    "infile = open(\"data1.txt\", \"r\")\n",
    "\n",
    "lines = []\n",
    "for line in infile:\n",
    "    print (line)\n",
    "    lines.append(line)\n",
    "infile.close()\n",
    "print (lines)\n",
    "\n",
    "mean = 0\n",
    "for line in lines:\n",
    "    number = float(line)\n",
    "    mean = mean + number\n",
    "mean = mean/len(lines)\n",
    "print (mean)"
   ]
  },
  {
   "cell_type": "code",
   "execution_count": null,
   "metadata": {},
   "outputs": [],
   "source": [
    "# Excercise 6.1\n",
    "# Author: Noah Waterfield Price\n",
    "\n",
    "import matplotlib.pyplot as plt\n",
    "import numpy as np\n",
    "\n",
    "x = []\n",
    "y = []\n",
    "\n",
    "infile = open(\"write_cml_function.txt\", \"r\")\n",
    "for line in infile:\n",
    "    coords = line.split()\n",
    "    x.append(float(coords[0]))\n",
    "    y.append(float(coords[1]))\n",
    "infile.close()\n",
    "\n",
    "x, y = np.array(x), np.array(y)\n",
    "\n",
    "print (\"Minimum x value = %f\" % x.min())\n",
    "print (\"Maximum x value = %f\" % x.max())\n",
    "print (\"Minimum y value = %f\" % y.min())\n",
    "print (\"Maximum y value = %f\" % y.max())\n",
    "\n",
    "plt.plot(x, y, color=\"#053061\", linewidth=1.5)\n",
    "plt.xlabel(\"x\")\n",
    "plt.ylabel(\"y\")\n",
    "plt.show()\n",
    "\n",
    "\"\"\"\n",
    "Sample run:\n",
    "python read_2columns.py\n",
    "Minimum x value = -1.000000\n",
    "Maximum x value = 1.000000\n",
    "Minimum y value = -0.948200\n",
    "Maximum y value = 0.948200\n",
    "\"\"\"\n",
    "    "
   ]
  },
  {
   "cell_type": "code",
   "execution_count": null,
   "metadata": {},
   "outputs": [],
   "source": [
    "def extract_data(filename):\n",
    "    infile = open(filename, \"r\")    \n",
    "    infile.readline() # skip the first line\n",
    "    numbers = []\n",
    "    for line in infile:\n",
    "        words = line.split()\n",
    "        number = float(words[1])\n",
    "        numbers.append(number)\n",
    "    infile.close()\n",
    "    return numbers\n",
    "\n",
    "values = extract_data(\"rainfall.dat\")\n",
    "# from scitools.std import plot\n",
    "import matplotlib.pyplot as plt\n",
    "month_indices = range(1, 13)\n",
    "plt.plot(month_indices, values[:-1])"
   ]
  },
  {
   "cell_type": "code",
   "execution_count": null,
   "metadata": {},
   "outputs": [],
   "source": [
    "plt.show()"
   ]
  },
  {
   "cell_type": "code",
   "execution_count": null,
   "metadata": {},
   "outputs": [],
   "source": [
    "from urllib import *\n",
    "url = \"http://www.metoffice.gov.uk/climate/uk/stationdata/oxforddata.txt\"\n",
    "urllib.urlretrieve(url, filename=\"Oxford.txt\")"
   ]
  },
  {
   "cell_type": "code",
   "execution_count": null,
   "metadata": {},
   "outputs": [],
   "source": [
    "import urllib.request\n",
    "with urllib.request.urlopen('http://www.metoffice.gov.uk/climate/uk/stationdata/oxforddata.txt') as response:\n",
    "   html = response.read()"
   ]
  },
  {
   "cell_type": "code",
   "execution_count": null,
   "metadata": {
    "collapsed": true
   },
   "outputs": [],
   "source": []
  },
  {
   "cell_type": "code",
   "execution_count": null,
   "metadata": {
    "collapsed": true
   },
   "outputs": [],
   "source": []
  }
 ],
 "metadata": {
  "anaconda-cloud": {},
  "kernelspec": {
   "display_name": "Python 3",
   "language": "python",
   "name": "python3"
  },
  "language_info": {
   "codemirror_mode": {
    "name": "ipython",
    "version": 3
   },
   "file_extension": ".py",
   "mimetype": "text/x-python",
   "name": "python",
   "nbconvert_exporter": "python",
   "pygments_lexer": "ipython3",
   "version": "3.6.3"
  }
 },
 "nbformat": 4,
 "nbformat_minor": 1
}
